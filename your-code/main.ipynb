{
  "cells": [
    {
      "cell_type": "markdown",
      "metadata": {
        "id": "fhy0TBYCFaWa"
      },
      "source": [
        "## Words"
      ]
    },
    {
      "cell_type": "code",
      "execution_count": 1,
      "metadata": {
        "id": "tg2_tm1PFaWd"
      },
      "outputs": [],
      "source": [
        "words = ['play', 'filling', 'bar', 'theatre', 'easygoing', 'date', 'lead', 'that', 'story',  'island']"
      ]
    },
    {
      "cell_type": "markdown",
      "metadata": {
        "id": "Sk4HTzZ0FaWe"
      },
      "source": [
        "**Print every word in upper case**"
      ]
    },
    {
      "cell_type": "code",
      "execution_count": 32,
      "metadata": {
        "colab": {
          "base_uri": "https://localhost:8080/"
        },
        "id": "IoxVlN_TFaWe",
        "outputId": "c9052c15-c9ad-4465-e77f-bb4404ff5a3a"
      },
      "outputs": [
        {
          "output_type": "stream",
          "name": "stdout",
          "text": [
            "PLAY\n",
            "FILLING\n",
            "BAR\n",
            "THEATRE\n",
            "EASYGOING\n",
            "DATE\n",
            "LEAD\n",
            "THAT\n",
            "STORY\n",
            "ISLAND\n"
          ]
        }
      ],
      "source": [
        "# your code here\n",
        "for word in words:\n",
        "  print(word.upper()) # Convert to uppercase and print"
      ]
    },
    {
      "cell_type": "markdown",
      "metadata": {
        "id": "7Na5d5KBFaWf"
      },
      "source": [
        "**Create a new list containing only words with 5 or more letters**"
      ]
    },
    {
      "cell_type": "code",
      "execution_count": 33,
      "metadata": {
        "colab": {
          "base_uri": "https://localhost:8080/"
        },
        "id": "i4up3BamFaWf",
        "outputId": "aa9e0a7e-c5d6-42a2-bd05-c1f69f0829ca"
      },
      "outputs": [
        {
          "output_type": "execute_result",
          "data": {
            "text/plain": [
              "['filling', 'theatre', 'easygoing', 'story', 'island']"
            ]
          },
          "metadata": {},
          "execution_count": 33
        }
      ],
      "source": [
        "# your code here\n",
        "new_list = [word for word in words if len(word) >= 5]\n",
        "new_list"
      ]
    },
    {
      "cell_type": "markdown",
      "metadata": {
        "id": "fhqNF2QQFaWf"
      },
      "source": [
        "**Print the first word starting with \"t\"**"
      ]
    },
    {
      "cell_type": "code",
      "execution_count": 43,
      "metadata": {
        "colab": {
          "base_uri": "https://localhost:8080/"
        },
        "id": "dPJQ7jXUFaWg",
        "outputId": "f334a132-d4de-48e8-b388-34ce210baa06"
      },
      "outputs": [
        {
          "output_type": "stream",
          "name": "stdout",
          "text": [
            "theatre\n"
          ]
        }
      ],
      "source": [
        "# your code here\n",
        "for word in words:\n",
        "  if word[0] == 't':\n",
        "    print(word)\n",
        "    break  # Exit the loop after finding the first match\n"
      ]
    },
    {
      "cell_type": "markdown",
      "metadata": {
        "id": "uo9iqMfVFaWg"
      },
      "source": [
        "## Numbers"
      ]
    },
    {
      "cell_type": "markdown",
      "metadata": {
        "id": "jSso7M-2FaWg"
      },
      "source": [
        "**Create a list containing the square of every number from 1 to 10**"
      ]
    },
    {
      "cell_type": "code",
      "execution_count": 35,
      "metadata": {
        "colab": {
          "base_uri": "https://localhost:8080/"
        },
        "id": "wIGX-xk7FaWg",
        "outputId": "db7dadc1-50fb-42ae-d239-f569c481ff20"
      },
      "outputs": [
        {
          "output_type": "execute_result",
          "data": {
            "text/plain": [
              "[1, 4, 9, 16, 25, 36, 49, 64, 81, 100]"
            ]
          },
          "metadata": {},
          "execution_count": 35
        }
      ],
      "source": [
        "# your code here\n",
        "square_list = [num**2 for num in range(1 , 11)]\n",
        "square_list"
      ]
    },
    {
      "cell_type": "markdown",
      "metadata": {
        "id": "Dq-cZoywFaWh"
      },
      "source": [
        "**Print a list containing the square of every odd number from 1 to 10**"
      ]
    },
    {
      "cell_type": "code",
      "execution_count": 36,
      "metadata": {
        "colab": {
          "base_uri": "https://localhost:8080/"
        },
        "id": "Htnv6n8PFaWh",
        "outputId": "793d5cdf-4f5c-417c-e0ce-7330abcea72b"
      },
      "outputs": [
        {
          "output_type": "execute_result",
          "data": {
            "text/plain": [
              "[1, 9, 25, 49, 81]"
            ]
          },
          "metadata": {},
          "execution_count": 36
        }
      ],
      "source": [
        "# your code here\n",
        "odd_square_list = []\n",
        "for num in range(1,11):\n",
        "  if num %2 == 1: # Check if the number is odd\n",
        "   odd_square_list.append(num**2) # Add the  the square of number to the list\n",
        "odd_square_list"
      ]
    },
    {
      "cell_type": "markdown",
      "metadata": {
        "id": "umwlTSO4FaWh"
      },
      "source": [
        "**Create a list with the squares of all multiples of 8 below 1000**"
      ]
    },
    {
      "cell_type": "code",
      "execution_count": 45,
      "metadata": {
        "colab": {
          "base_uri": "https://localhost:8080/"
        },
        "id": "PbekvWDtFaWh",
        "outputId": "2e9bfc34-0ca0-4942-f23e-451fa829dc47"
      },
      "outputs": [
        {
          "output_type": "execute_result",
          "data": {
            "text/plain": [
              "[64,\n",
              " 256,\n",
              " 576,\n",
              " 1024,\n",
              " 1600,\n",
              " 2304,\n",
              " 3136,\n",
              " 4096,\n",
              " 5184,\n",
              " 6400,\n",
              " 7744,\n",
              " 9216,\n",
              " 10816,\n",
              " 12544,\n",
              " 14400,\n",
              " 16384,\n",
              " 18496,\n",
              " 20736,\n",
              " 23104,\n",
              " 25600,\n",
              " 28224,\n",
              " 30976,\n",
              " 33856,\n",
              " 36864,\n",
              " 40000,\n",
              " 43264,\n",
              " 46656,\n",
              " 50176,\n",
              " 53824,\n",
              " 57600,\n",
              " 61504,\n",
              " 65536,\n",
              " 69696,\n",
              " 73984,\n",
              " 78400,\n",
              " 82944,\n",
              " 87616,\n",
              " 92416,\n",
              " 97344,\n",
              " 102400,\n",
              " 107584,\n",
              " 112896,\n",
              " 118336,\n",
              " 123904,\n",
              " 129600,\n",
              " 135424,\n",
              " 141376,\n",
              " 147456,\n",
              " 153664,\n",
              " 160000,\n",
              " 166464,\n",
              " 173056,\n",
              " 179776,\n",
              " 186624,\n",
              " 193600,\n",
              " 200704,\n",
              " 207936,\n",
              " 215296,\n",
              " 222784,\n",
              " 230400,\n",
              " 238144,\n",
              " 246016,\n",
              " 254016,\n",
              " 262144,\n",
              " 270400,\n",
              " 278784,\n",
              " 287296,\n",
              " 295936,\n",
              " 304704,\n",
              " 313600,\n",
              " 322624,\n",
              " 331776,\n",
              " 341056,\n",
              " 350464,\n",
              " 360000,\n",
              " 369664,\n",
              " 379456,\n",
              " 389376,\n",
              " 399424,\n",
              " 409600,\n",
              " 419904,\n",
              " 430336,\n",
              " 440896,\n",
              " 451584,\n",
              " 462400,\n",
              " 473344,\n",
              " 484416,\n",
              " 495616,\n",
              " 506944,\n",
              " 518400,\n",
              " 529984,\n",
              " 541696,\n",
              " 553536,\n",
              " 565504,\n",
              " 577600,\n",
              " 589824,\n",
              " 602176,\n",
              " 614656,\n",
              " 627264,\n",
              " 640000,\n",
              " 652864,\n",
              " 665856,\n",
              " 678976,\n",
              " 692224,\n",
              " 705600,\n",
              " 719104,\n",
              " 732736,\n",
              " 746496,\n",
              " 760384,\n",
              " 774400,\n",
              " 788544,\n",
              " 802816,\n",
              " 817216,\n",
              " 831744,\n",
              " 846400,\n",
              " 861184,\n",
              " 876096,\n",
              " 891136,\n",
              " 906304,\n",
              " 921600,\n",
              " 937024,\n",
              " 952576,\n",
              " 968256,\n",
              " 984064]"
            ]
          },
          "metadata": {},
          "execution_count": 45
        }
      ],
      "source": [
        "# your code here\n",
        "multiples_list = []\n",
        "for num in range(1, 1000):\n",
        "  if num % 8 == 0:  # Check if the number is a multiple of 8\n",
        "    multiples_list.append(num**2)  # Add the number to the list\n",
        "\n",
        "# Output the list of multiples of 8\n",
        "multiples_list"
      ]
    },
    {
      "cell_type": "markdown",
      "metadata": {
        "id": "VmmK3RWyFaWh"
      },
      "source": [
        "## People"
      ]
    },
    {
      "cell_type": "code",
      "execution_count": 38,
      "metadata": {
        "id": "0w1efrHEFaWh"
      },
      "outputs": [],
      "source": [
        "people = [\n",
        "    {\n",
        "        \"name\": \"Juan\",\n",
        "        \"age\": 34,\n",
        "        \"n_kids\": 2\n",
        "    },\n",
        "    {\n",
        "        \"name\": \"Pepe\",\n",
        "        \"age\": 27,\n",
        "        \"n_kids\": 0\n",
        "    },\n",
        "    {\n",
        "        \"name\": \"Sonia\",\n",
        "        \"age\": 41,\n",
        "        \"n_kids\": 1\n",
        "    },\n",
        "    {\n",
        "        \"name\": \"Lucía\",\n",
        "        \"age\": 22,\n",
        "        \"n_kids\": 2\n",
        "    },\n",
        "    {\n",
        "        \"name\": \"Leo\",\n",
        "        \"age\": 55,\n",
        "        \"n_kids\": 5\n",
        "    }\n",
        "]"
      ]
    },
    {
      "cell_type": "markdown",
      "metadata": {
        "id": "jNebbc1pFaWi"
      },
      "source": [
        "**How many people are there?**"
      ]
    },
    {
      "cell_type": "code",
      "execution_count": 39,
      "metadata": {
        "colab": {
          "base_uri": "https://localhost:8080/"
        },
        "id": "avXu_A2fFaWi",
        "outputId": "05e514b6-9eec-4efb-fb97-0ebbed1d5a32"
      },
      "outputs": [
        {
          "output_type": "stream",
          "name": "stdout",
          "text": [
            "The total number of people is :  5\n"
          ]
        }
      ],
      "source": [
        "# your code here\n",
        "print(\"The total number of people is : \" ,len(people))"
      ]
    },
    {
      "cell_type": "markdown",
      "metadata": {
        "id": "Oq3kRDLYFaWj"
      },
      "source": [
        "**How many people have kids**?"
      ]
    },
    {
      "cell_type": "code",
      "execution_count": 40,
      "metadata": {
        "colab": {
          "base_uri": "https://localhost:8080/"
        },
        "id": "Q_XHWqE7FaWj",
        "outputId": "8495a509-7cd7-4344-b8e0-c175e5887c20"
      },
      "outputs": [
        {
          "output_type": "stream",
          "name": "stdout",
          "text": [
            "the number of people who have kids :  4\n"
          ]
        }
      ],
      "source": [
        "# your code here\n",
        "# Count the number of people who have kids\n",
        "count = len([person for person in people if person['n_kids'] > 0])\n",
        "\n",
        "# Output the count\n",
        "print(\"the number of people who have kids : \" , count)"
      ]
    },
    {
      "cell_type": "markdown",
      "metadata": {
        "id": "dDfhgDkLFaWj"
      },
      "source": [
        "**How many kids do they have in total?**"
      ]
    },
    {
      "cell_type": "code",
      "execution_count": 41,
      "metadata": {
        "colab": {
          "base_uri": "https://localhost:8080/"
        },
        "id": "MP7xOLZsFaWj",
        "outputId": "b4aa29f6-49bf-4ddc-ac10-6687b2f389b5"
      },
      "outputs": [
        {
          "output_type": "stream",
          "name": "stdout",
          "text": [
            "The total number of kids is :  10\n"
          ]
        }
      ],
      "source": [
        "# your code here\n",
        "# Calculate the total number of kids by summing 'n_kids' for each person in the list\n",
        "total_kids = sum(person['n_kids'] for person in people)\n",
        "\n",
        "# Output the total number of kids\n",
        "print(\"The total number of kids is : \" , total_kids)"
      ]
    },
    {
      "cell_type": "markdown",
      "metadata": {
        "id": "aolnf0WeFaWj"
      },
      "source": [
        "**In a year's time, names ending with \"a\" will have an extra kid. Create a list of dictionaries with people's info in a year's time**"
      ]
    },
    {
      "cell_type": "code",
      "execution_count": 42,
      "metadata": {
        "colab": {
          "base_uri": "https://localhost:8080/"
        },
        "id": "ucf6iD_EFaWj",
        "outputId": "15d8504a-9112-4857-91de-00ca78f07b88"
      },
      "outputs": [
        {
          "output_type": "stream",
          "name": "stdout",
          "text": [
            " ----- The updated list ----- \n"
          ]
        },
        {
          "output_type": "execute_result",
          "data": {
            "text/plain": [
              "[{'name': 'Juan', 'age': 34, 'n_kids': 2},\n",
              " {'name': 'Pepe', 'age': 27, 'n_kids': 0},\n",
              " {'name': 'Sonia', 'age': 41, 'n_kids': 2},\n",
              " {'name': 'Lucía', 'age': 22, 'n_kids': 3},\n",
              " {'name': 'Leo', 'age': 55, 'n_kids': 5}]"
            ]
          },
          "metadata": {},
          "execution_count": 42
        }
      ],
      "source": [
        "# your code here\n",
        "new_people = []\n",
        "for person in people:\n",
        "  new_person = person.copy()  # Create a copy to avoid modifying the original list\n",
        "  if new_person['name'][-1] == 'a':  # Check if the name ends with 'a'\n",
        "    new_person['n_kids'] += 1  # Increment 'n_kids' if condition is met\n",
        "  new_people.append(new_person)  # Add the modified person to the new list\n",
        "\n",
        "print(\" ----- The updated list ----- \")\n",
        "new_people  # Return the updated list"
      ]
    },
    {
      "cell_type": "code",
      "source": [],
      "metadata": {
        "id": "YBxQpJKgW8i7"
      },
      "execution_count": 42,
      "outputs": []
    }
  ],
  "metadata": {
    "kernelspec": {
      "display_name": "Python 3 (ipykernel)",
      "language": "python",
      "name": "python3"
    },
    "language_info": {
      "codemirror_mode": {
        "name": "ipython",
        "version": 3
      },
      "file_extension": ".py",
      "mimetype": "text/x-python",
      "name": "python",
      "nbconvert_exporter": "python",
      "pygments_lexer": "ipython3",
      "version": "3.9.13"
    },
    "toc": {
      "base_numbering": 1,
      "nav_menu": {},
      "number_sections": false,
      "sideBar": true,
      "skip_h1_title": false,
      "title_cell": "Table of Contents",
      "title_sidebar": "Contents",
      "toc_cell": false,
      "toc_position": {},
      "toc_section_display": true,
      "toc_window_display": true
    },
    "varInspector": {
      "cols": {
        "lenName": 16,
        "lenType": 16,
        "lenVar": 40
      },
      "kernels_config": {
        "python": {
          "delete_cmd_postfix": "",
          "delete_cmd_prefix": "del ",
          "library": "var_list.py",
          "varRefreshCmd": "print(var_dic_list())"
        },
        "r": {
          "delete_cmd_postfix": ") ",
          "delete_cmd_prefix": "rm(",
          "library": "var_list.r",
          "varRefreshCmd": "cat(var_dic_list()) "
        }
      },
      "types_to_exclude": [
        "module",
        "function",
        "builtin_function_or_method",
        "instance",
        "_Feature"
      ],
      "window_display": false
    },
    "vscode": {
      "interpreter": {
        "hash": "aee8b7b246df8f9039afb4144a1f6fd8d2ca17a180786b69acc140d282b71a49"
      }
    },
    "colab": {
      "provenance": []
    }
  },
  "nbformat": 4,
  "nbformat_minor": 0
}